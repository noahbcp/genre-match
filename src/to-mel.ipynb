{
 "cells": [
  {
   "attachments": {},
   "cell_type": "markdown",
   "metadata": {},
   "source": [
    "# To-mel\n",
    "Script to convert an input (GTZAN dataset) to mel spectrogram for training data.\n",
    "Mel spectograms logarithmically render frequency above a given threshold."
   ]
  },
  {
   "cell_type": "code",
   "execution_count": null,
   "metadata": {},
   "outputs": [],
   "source": [
    "# Libraries\n",
    "import os\n",
    "import librosa\n",
    "import librosa.display\n",
    "import matplotlib.pyplot as plt\n",
    "import numpy as np\n",
    "\n",
    "# Get file path to audio file\n",
    "path = os.path.abspath(\"C:/Users/uqnpipe2/Projects/genre-match/dev/disco.00000.au\")\n",
    "\n",
    "# Load audio file as python audio object\n",
    "y, sr = librosa.load(path)\n",
    "\n",
    "# Define spectrogram dimensions\n",
    "fig, ax = plt.subplots()\n",
    "height = 128 # Height of image\n",
    "\n",
    "# Generate a mel spectrogram array\n",
    "S = librosa.feature.melspectrogram(y=y, sr=sr, n_mels=height, fmax=8000)\n",
    "\n",
    "# Generate spectrogram\n",
    "S_dB = librosa.power_to_db(S, ref=np.max)\n",
    "img = librosa.display.specshow(S_dB, x_axis='time', y_axis='mel', sr=sr, fmax=8000, ax=ax)\n",
    "\n",
    "# Generate filename\n",
    "name = os.path.basename(path)\n",
    "\n",
    "# Generate savepath\n",
    "genre, track, filetype = name.split(\".\")\n",
    "savepath = \"../dev/\" + genre + \"/\" + genre + \".\" + track + \".png\"\n",
    "\n",
    "# Check savepath exists, mkdir otherwise\n",
    "if os.path.exists(savepath) is False:\n",
    "    os.mkdir(\"../dev/\" + genre + \"/\")\n",
    "\n",
    "# Write spectrogram to file\n",
    "plt.savefig(savepath)\n",
    "plt.show()"
   ]
  }
 ],
 "metadata": {
  "kernelspec": {
   "display_name": "Python 3",
   "language": "python",
   "name": "python3"
  },
  "language_info": {
   "codemirror_mode": {
    "name": "ipython",
    "version": 3
   },
   "file_extension": ".py",
   "mimetype": "text/x-python",
   "name": "python",
   "nbconvert_exporter": "python",
   "pygments_lexer": "ipython3",
   "version": "3.10.9"
  },
  "orig_nbformat": 4,
  "vscode": {
   "interpreter": {
    "hash": "1242d8b47a39cf262f158dedba706d5410057bcc74a7becbad79b52880e17d9e"
   }
  }
 },
 "nbformat": 4,
 "nbformat_minor": 2
}

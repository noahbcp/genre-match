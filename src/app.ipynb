{
 "cells": [
  {
   "cell_type": "code",
   "execution_count": null,
   "metadata": {},
   "outputs": [],
   "source": [
    "import os\n",
    "from fastcore.all import *\n",
    "from fastai.vision.all import *\n",
    "from tkinter import Tk\n",
    "from tkinter.filedialog import askopenfilename\n",
    "from collections import Counter"
   ]
  },
  {
   "cell_type": "code",
   "execution_count": null,
   "metadata": {},
   "outputs": [],
   "source": [
    "# Handles different os (i.e. if running in wsl). Load_learner breaks otherwise.\n",
    "import pathlib\n",
    "plt = platform.system()\n",
    "if plt == 'Linux': pathlib.WindowsPath = pathlib.PosixPath\n",
    "\n",
    "# Load trained model\n",
    "learn_inf = load_learner(\"export.pkl\")"
   ]
  },
  {
   "cell_type": "code",
   "execution_count": null,
   "metadata": {},
   "outputs": [],
   "source": [
    "# Open files (input should be a single album)\n",
    "files = askopenfilename(filetypes=[(\"Image files\", \"*.png\")], multiple=True)\n",
    "\n",
    "preds = []\n",
    "with learn_inf.no_logging(), learn_inf.no_bar(): # Suppress console output\n",
    "    for item in files:\n",
    "        preds.append(learn_inf.predict(item)[0])\n",
    "\n",
    "# Function to find most frequent element in list\n",
    "def most_frequent(List):\n",
    "    count = Counter(List)\n",
    "    return count.most_common(1)[0][0]\n",
    "\n",
    "pred_genre = most_frequent(preds)\n",
    "\n",
    "# Calculate fraction of album predicted to belong to found genre\n",
    "num_tracks = len(preds)\n",
    "pred_genre_count = preds.count(pred_genre)\n",
    "frac_pred_genre = 100*(pred_genre_count / num_tracks)\n",
    "\n",
    "\n",
    "print(f\"This album's genre is {pred_genre}.\")\n",
    "print(f\"{frac_pred_genre}% of the input tracks belonged to {pred_genre}.\")"
   ]
  }
 ],
 "metadata": {
  "kernelspec": {
   "display_name": "env",
   "language": "python",
   "name": "python3"
  },
  "language_info": {
   "codemirror_mode": {
    "name": "ipython",
    "version": 3
   },
   "file_extension": ".py",
   "mimetype": "text/x-python",
   "name": "python",
   "nbconvert_exporter": "python",
   "pygments_lexer": "ipython3",
   "version": "3.10.8"
  },
  "orig_nbformat": 4,
  "vscode": {
   "interpreter": {
    "hash": "b8e25486d0d28f8a63994e886d4de7792860f857ef5b8806d57521eece6719c3"
   }
  }
 },
 "nbformat": 4,
 "nbformat_minor": 2
}

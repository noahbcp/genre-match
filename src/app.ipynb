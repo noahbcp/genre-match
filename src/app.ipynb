{
 "cells": [
  {
   "cell_type": "code",
   "execution_count": 60,
   "metadata": {},
   "outputs": [],
   "source": [
    "import os\n",
    "from fastcore.all import *\n",
    "from fastai.vision.all import *\n",
    "from tkinter import Tk\n",
    "from tkinter.filedialog import askopenfilename\n",
    "from collections import Counter"
   ]
  },
  {
   "cell_type": "code",
   "execution_count": null,
   "metadata": {},
   "outputs": [],
   "source": [
    "# Load trained model\n",
    "path = Path()\n",
    "learn_inf = load_learner(path/\"export.pkl\")"
   ]
  },
  {
   "cell_type": "code",
   "execution_count": 61,
   "metadata": {},
   "outputs": [
    {
     "name": "stdout",
     "output_type": "stream",
     "text": [
      "This album's genre is hiphop.\n",
      "100.0% of the input tracks belonged to hiphop.\n"
     ]
    }
   ],
   "source": [
    "# Open files (input should be a single album)\n",
    "files = askopenfilename(filetypes=[(\"Image files\", \"*.png\")], multiple=True)\n",
    "\n",
    "preds = []\n",
    "with learn_inf.no_logging(), learn_inf.no_bar(): # Suppress console output\n",
    "    for item in files:\n",
    "        preds.append(learn_inf.predict(item)[0])\n",
    "\n",
    "# Function to find most frequent element in list\n",
    "def most_frequent(List):\n",
    "    count = Counter(List)\n",
    "    return count.most_common(1)[0][0]\n",
    "\n",
    "pred_genre = most_frequent(preds)\n",
    "\n",
    "# Calculate fraction of album predicted to belong to found genre\n",
    "num_tracks = len(preds)\n",
    "pred_genre_count = preds.count(pred_genre)\n",
    "frac_pred_genre = 100*(pred_genre_count / num_tracks)\n",
    "\n",
    "\n",
    "print(f\"This album's genre is {pred_genre}.\")\n",
    "print(f\"{frac_pred_genre}% of the input tracks belonged to {pred_genre}.\")"
   ]
  }
 ],
 "metadata": {
  "kernelspec": {
   "display_name": "Python 3",
   "language": "python",
   "name": "python3"
  },
  "language_info": {
   "codemirror_mode": {
    "name": "ipython",
    "version": 3
   },
   "file_extension": ".py",
   "mimetype": "text/x-python",
   "name": "python",
   "nbconvert_exporter": "python",
   "pygments_lexer": "ipython3",
   "version": "3.10.9"
  },
  "orig_nbformat": 4,
  "vscode": {
   "interpreter": {
    "hash": "1242d8b47a39cf262f158dedba706d5410057bcc74a7becbad79b52880e17d9e"
   }
  }
 },
 "nbformat": 4,
 "nbformat_minor": 2
}
